{
 "cells": [
  {
   "cell_type": "code",
   "execution_count": 17,
   "metadata": {
    "collapsed": false
   },
   "outputs": [],
   "source": [
    "class BlackScholes:\n",
    "    def __init__(self, S0, K, T, r, Sigma, div = 0): #初始化\n",
    "        self.S0 = S0  \n",
    "        self.K = K \n",
    "        self.T = T  \n",
    "        self.r = r\n",
    "        self.Sigma = Sigma\n",
    "        self.div = div\n",
    "    \n",
    "    # 方法：Closed-form Solution (CF)    \n",
    "    def Put_Value_CF(self):\n",
    "        from math import log, sqrt, exp\n",
    "        from scipy import stats\n",
    "        d1 = (log(S0 / K) + (r + 0.5 * Sigma ** 2) * T) / (Sigma * sqrt(T))\n",
    "        d2 = (log(S0 / K) + (r - 0.5 * Sigma ** 2) * T) / (Sigma * sqrt(T))\n",
    "        P0 =  K * exp(-r * T) * stats.norm.cdf(-d2, 0, 1) - (S0 * stats.norm.cdf(-d1, 0, 1))\n",
    "        ValMethod = 'CF'\n",
    "        self.display(ValMethod, P0)\n",
    "        \n",
    "    # 方法：Monte Carlo Simulation (MSC)\n",
    "    def Put_Value_MSC(self, N = 10000):\n",
    "        from numpy import random, sqrt, exp, maximum, sum\n",
    "        z = random.standard_normal(N)\n",
    "        ST = S0 * exp((r - 0.5 * Sigma ** 2) * T + Sigma * sqrt(T) * z)\n",
    "        CT = maximum(ST - K, 0)\n",
    "        P0 = exp(-r * T) * sum(CT) / N\n",
    "        #return C0\n",
    "        ValMethod = 'MSC' + ' [N =' + str(N) + ']'\n",
    "        self.display(ValMethod, P0)\n",
    "        \n",
    "    # 方法：顯示計算結果\n",
    "    def display(self, ValMethod, P0):\n",
    "        print('Put (' + ValMethod + '): ' + str(P0))\n",
    "        "
   ]
  },
  {
   "cell_type": "code",
   "execution_count": 18,
   "metadata": {
    "collapsed": false
   },
   "outputs": [
    {
     "name": "stdout",
     "output_type": "stream",
     "text": [
      "Put (CF): 7.90044180772\n",
      "Put (MSC [N =10000]): 8.05714600346\n",
      "Put (MSC [N =100000]): 8.00852521508\n"
     ]
    }
   ],
   "source": [
    "S0 = 100\n",
    "K = 105\n",
    "T = 1\n",
    "r = 0.05\n",
    "Sigma = 0.2\n",
    "N = 100000\n",
    "\n",
    "BS = BlackScholes(S0, K, T, r, Sigma)\n",
    "BS.Put_Value_CF()\n",
    "BS.Put_Value_MSC()\n",
    "BS.Put_Value_MSC(100000)"
   ]
  },
  {
   "cell_type": "code",
   "execution_count": null,
   "metadata": {
    "collapsed": true
   },
   "outputs": [],
   "source": []
  }
 ],
 "metadata": {
  "anaconda-cloud": {},
  "kernelspec": {
   "display_name": "Python [Root]",
   "language": "python",
   "name": "Python [Root]"
  },
  "language_info": {
   "codemirror_mode": {
    "name": "ipython",
    "version": 3
   },
   "file_extension": ".py",
   "mimetype": "text/x-python",
   "name": "python",
   "nbconvert_exporter": "python",
   "pygments_lexer": "ipython3",
   "version": "3.5.2"
  }
 },
 "nbformat": 4,
 "nbformat_minor": 0
}
